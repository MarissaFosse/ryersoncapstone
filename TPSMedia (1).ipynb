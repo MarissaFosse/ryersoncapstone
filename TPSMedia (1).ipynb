{
  "nbformat": 4,
  "nbformat_minor": 0,
  "metadata": {
    "colab": {
      "name": "TPSMedia.ipynb",
      "provenance": [],
      "collapsed_sections": [
        "Eu2o_0_CxDzJ"
      ]
    },
    "kernelspec": {
      "name": "python3",
      "display_name": "Python 3"
    }
  },
  "cells": [
    {
      "cell_type": "markdown",
      "metadata": {
        "id": "Eu2o_0_CxDzJ",
        "colab_type": "text"
      },
      "source": [
        "# Imports, downloads, etc."
      ]
    },
    {
      "cell_type": "code",
      "metadata": {
        "id": "vpFoYFGMizmr",
        "colab_type": "code",
        "colab": {
          "base_uri": "https://localhost:8080/",
          "height": 119
        },
        "outputId": "277dd72a-f98e-40a3-cf7b-11dd389f1326"
      },
      "source": [
        "import requests\n",
        "import nltk\n",
        "from bs4 import BeautifulSoup\n"
      ],
      "execution_count": 1,
      "outputs": [
        {
          "output_type": "stream",
          "text": [
            "[nltk_data] Downloading package punkt to /root/nltk_data...\n",
            "[nltk_data]   Unzipping tokenizers/punkt.zip.\n",
            "[nltk_data] Downloading package stopwords to /root/nltk_data...\n",
            "[nltk_data]   Unzipping corpora/stopwords.zip.\n",
            "[nltk_data] Downloading package wordnet to /root/nltk_data...\n",
            "[nltk_data]   Unzipping corpora/wordnet.zip.\n"
          ],
          "name": "stdout"
        }
      ]
    },
    {
      "cell_type": "markdown",
      "metadata": {
        "id": "qZPeVmaQwodG",
        "colab_type": "text"
      },
      "source": [
        "# Creating the dataframe from csv"
      ]
    },
    {
      "cell_type": "code",
      "metadata": {
        "id": "zB2Llu_QuGZQ",
        "colab_type": "code",
        "outputId": "8fc06c1e-c7cf-4243-c85e-e2f2af082833",
        "colab": {
          "base_uri": "https://localhost:8080/",
          "height": 419
        }
      },
      "source": [
        "import pandas as pd\n",
        "#pd.set_option('display.max_colwidth', none)\n",
        "url_file = 'https://raw.githubusercontent.com/MarissaFosse/ryersoncapstone/master/DailyNewsArticlesCSV.csv'\n",
        "\n",
        "tstar_articles = pd.read_csv(url_file, header=0, usecols=[\"Date\", \"Category\", \"Publisher\", \"Heading\", \"URL\"]) \n",
        "\n",
        "#tstar_articles.describe()\n",
        "tstar_articles.head(90)"
      ],
      "execution_count": 45,
      "outputs": [
        {
          "output_type": "execute_result",
          "data": {
            "text/html": [
              "<div>\n",
              "<style scoped>\n",
              "    .dataframe tbody tr th:only-of-type {\n",
              "        vertical-align: middle;\n",
              "    }\n",
              "\n",
              "    .dataframe tbody tr th {\n",
              "        vertical-align: top;\n",
              "    }\n",
              "\n",
              "    .dataframe thead th {\n",
              "        text-align: right;\n",
              "    }\n",
              "</style>\n",
              "<table border=\"1\" class=\"dataframe\">\n",
              "  <thead>\n",
              "    <tr style=\"text-align: right;\">\n",
              "      <th></th>\n",
              "      <th>Date</th>\n",
              "      <th>Category</th>\n",
              "      <th>Publisher</th>\n",
              "      <th>Heading</th>\n",
              "      <th>URL</th>\n",
              "    </tr>\n",
              "  </thead>\n",
              "  <tbody>\n",
              "    <tr>\n",
              "      <th>0</th>\n",
              "      <td>2020-01-01</td>\n",
              "      <td>Violent Crime</td>\n",
              "      <td>The Star</td>\n",
              "      <td>With 292 people shot, 2019 comes to a close as...</td>\n",
              "      <td>https://www.thestar.com/news/gta/2019/12/31/wi...</td>\n",
              "    </tr>\n",
              "    <tr>\n",
              "      <th>1</th>\n",
              "      <td>2020-01-01</td>\n",
              "      <td>Violent Crime</td>\n",
              "      <td>The Star</td>\n",
              "      <td>Two men shot overnight in North York</td>\n",
              "      <td>https://www.thestar.com/news/crime/2019/12/31/...</td>\n",
              "    </tr>\n",
              "    <tr>\n",
              "      <th>2</th>\n",
              "      <td>2020-01-01</td>\n",
              "      <td>Violent Crime</td>\n",
              "      <td>The Star</td>\n",
              "      <td>Six arrested after downtown home invasion on B...</td>\n",
              "      <td>https://www.thestar.com/news/gta/2019/12/31/si...</td>\n",
              "    </tr>\n",
              "    <tr>\n",
              "      <th>3</th>\n",
              "      <td>2020-01-04</td>\n",
              "      <td>Violent Crime</td>\n",
              "      <td>The Star</td>\n",
              "      <td>Toronto police ID last homicide victim of 2019...</td>\n",
              "      <td>https://www.thestar.com/news/crime/2020/01/02/...</td>\n",
              "    </tr>\n",
              "    <tr>\n",
              "      <th>4</th>\n",
              "      <td>2020-01-04</td>\n",
              "      <td>Traffic</td>\n",
              "      <td>The Star</td>\n",
              "      <td>SIU clears police after a car they initially c...</td>\n",
              "      <td>https://www.thestar.com/news/gta/2020/01/02/si...</td>\n",
              "    </tr>\n",
              "    <tr>\n",
              "      <th>...</th>\n",
              "      <td>...</td>\n",
              "      <td>...</td>\n",
              "      <td>...</td>\n",
              "      <td>...</td>\n",
              "      <td>...</td>\n",
              "    </tr>\n",
              "    <tr>\n",
              "      <th>85</th>\n",
              "      <td>2020-02-05</td>\n",
              "      <td>Missing Persons</td>\n",
              "      <td>The Star</td>\n",
              "      <td>Homicide victim Tess Richey’s friend describes...</td>\n",
              "      <td>https://www.thestar.com/news/gta/2020/02/04/te...</td>\n",
              "    </tr>\n",
              "    <tr>\n",
              "      <th>86</th>\n",
              "      <td>2020-02-06</td>\n",
              "      <td>Violent Crime</td>\n",
              "      <td>The Star</td>\n",
              "      <td>Scarborough’s Cedarbrae Collegiate Institute l...</td>\n",
              "      <td>https://www.thestar.com/news/gta/2020/02/05/sc...</td>\n",
              "    </tr>\n",
              "    <tr>\n",
              "      <th>87</th>\n",
              "      <td>2020-02-06</td>\n",
              "      <td>Missing Persons</td>\n",
              "      <td>The Star</td>\n",
              "      <td>Undercover cops discussed Magic: The Gathering...</td>\n",
              "      <td>https://www.thestar.com/news/gta/2020/02/05/un...</td>\n",
              "    </tr>\n",
              "    <tr>\n",
              "      <th>88</th>\n",
              "      <td>2020-02-07</td>\n",
              "      <td>Violent Crime</td>\n",
              "      <td>The Star</td>\n",
              "      <td>Man sustains ‘life-altering’ injuries after he...</td>\n",
              "      <td>https://www.thestar.com/news/gta/2020/02/06/ma...</td>\n",
              "    </tr>\n",
              "    <tr>\n",
              "      <th>89</th>\n",
              "      <td>2020-02-07</td>\n",
              "      <td>Missing Persons</td>\n",
              "      <td>The Star</td>\n",
              "      <td>Man accused of abducting toddler and fleeing t...</td>\n",
              "      <td>https://www.thestar.com/news/gta/2020/02/06/ma...</td>\n",
              "    </tr>\n",
              "  </tbody>\n",
              "</table>\n",
              "<p>90 rows × 5 columns</p>\n",
              "</div>"
            ],
            "text/plain": [
              "          Date  ...                                                URL\n",
              "0   2020-01-01  ...  https://www.thestar.com/news/gta/2019/12/31/wi...\n",
              "1   2020-01-01  ...  https://www.thestar.com/news/crime/2019/12/31/...\n",
              "2   2020-01-01  ...  https://www.thestar.com/news/gta/2019/12/31/si...\n",
              "3   2020-01-04  ...  https://www.thestar.com/news/crime/2020/01/02/...\n",
              "4   2020-01-04  ...  https://www.thestar.com/news/gta/2020/01/02/si...\n",
              "..         ...  ...                                                ...\n",
              "85  2020-02-05  ...  https://www.thestar.com/news/gta/2020/02/04/te...\n",
              "86  2020-02-06  ...  https://www.thestar.com/news/gta/2020/02/05/sc...\n",
              "87  2020-02-06  ...  https://www.thestar.com/news/gta/2020/02/05/un...\n",
              "88  2020-02-07  ...  https://www.thestar.com/news/gta/2020/02/06/ma...\n",
              "89  2020-02-07  ...  https://www.thestar.com/news/gta/2020/02/06/ma...\n",
              "\n",
              "[90 rows x 5 columns]"
            ]
          },
          "metadata": {
            "tags": []
          },
          "execution_count": 45
        }
      ]
    },
    {
      "cell_type": "code",
      "metadata": {
        "id": "OjqPJgWrZnnk",
        "colab_type": "code",
        "colab": {
          "base_uri": "https://localhost:8080/",
          "height": 458
        },
        "outputId": "d3e49bcc-878e-4de7-e321-d570a8f596d6"
      },
      "source": [
        "import matplotlib.pyplot as plt\n",
        "%matplotlib inline\n",
        "\n",
        "plt.figure(figsize=(10,4))\n",
        "tstar_articles.Category.value_counts().plot(kind='bar')"
      ],
      "execution_count": 110,
      "outputs": [
        {
          "output_type": "execute_result",
          "data": {
            "text/plain": [
              "<matplotlib.axes._subplots.AxesSubplot at 0x7efc927f4da0>"
            ]
          },
          "metadata": {
            "tags": []
          },
          "execution_count": 110
        },
        {
          "output_type": "display_data",
          "data": {
            "image/png": "[encoded data removed]",
            "text/plain": [
              "<Figure size 720x288 with 1 Axes>"
            ]
          },
          "metadata": {
            "tags": [],
            "needs_background": "light"
          }
        }
      ]
    },
    {
      "cell_type": "markdown",
      "metadata": {
        "id": "xiULXQFZa_nc",
        "colab_type": "text"
      },
      "source": [
        "The categories are not well balanced. Thus, my classification algorithm will be designed to only predict Violent Crime and Community Policing & Demographics. Perhaps Traffic if I normalize the data. "
      ]
    },
    {
      "cell_type": "markdown",
      "metadata": {
        "id": "gEYcdjTLwubK",
        "colab_type": "text"
      },
      "source": [
        "# Creating a list of the tokenized/lemmatized words from each artile and appending it to the dataframe"
      ]
    },
    {
      "cell_type": "code",
      "metadata": {
        "id": "VjO_MrxQS4Tq",
        "colab_type": "code",
        "colab": {}
      },
      "source": [
        "url_to_sents = {}\n",
        "\n",
        "for url in tstar_articles['URL']:\n",
        "    response = requests.get(url)\n",
        "    bsoup = BeautifulSoup(response.content.decode('utf8'))\n",
        "    if bsoup.find(class_='c-article-body__content'):\n",
        "      article_sents = ' '.join([p.text for p in bsoup.find(class_='c-article-body__content').find_all('p')])\n",
        "    url_to_sents[url] = article_sents"
      ],
      "execution_count": 0,
      "outputs": []
    },
    {
      "cell_type": "code",
      "metadata": {
        "id": "DOL5nB6TxixG",
        "colab_type": "code",
        "colab": {}
      },
      "source": [
        "#url_to_sents"
      ],
      "execution_count": 0,
      "outputs": []
    },
    {
      "cell_type": "markdown",
      "metadata": {
        "id": "xj92HoCy5W60",
        "colab_type": "text"
      },
      "source": [
        "Append the extracted text to the tstar_articles dataframe."
      ]
    },
    {
      "cell_type": "code",
      "metadata": {
        "id": "jf-fMEc93Ik4",
        "colab_type": "code",
        "colab": {
          "base_uri": "https://localhost:8080/",
          "height": 204
        },
        "outputId": "b3c3750b-5307-4f82-e64c-138fb01de541"
      },
      "source": [
        "urls, texts = zip(*url_to_sents.items())\n",
        "data = {'urls':urls, 'text':texts}\n",
        "df1 = pd.DataFrame.from_dict(data)\n",
        "\n",
        "tstar_articles['raw text'] = df1['text']\n",
        "tstar_articles.head()"
      ],
      "execution_count": 46,
      "outputs": [
        {
          "output_type": "execute_result",
          "data": {
            "text/html": [
              "<div>\n",
              "<style scoped>\n",
              "    .dataframe tbody tr th:only-of-type {\n",
              "        vertical-align: middle;\n",
              "    }\n",
              "\n",
              "    .dataframe tbody tr th {\n",
              "        vertical-align: top;\n",
              "    }\n",
              "\n",
              "    .dataframe thead th {\n",
              "        text-align: right;\n",
              "    }\n",
              "</style>\n",
              "<table border=\"1\" class=\"dataframe\">\n",
              "  <thead>\n",
              "    <tr style=\"text-align: right;\">\n",
              "      <th></th>\n",
              "      <th>Date</th>\n",
              "      <th>Category</th>\n",
              "      <th>Publisher</th>\n",
              "      <th>Heading</th>\n",
              "      <th>URL</th>\n",
              "      <th>raw text</th>\n",
              "    </tr>\n",
              "  </thead>\n",
              "  <tbody>\n",
              "    <tr>\n",
              "      <th>0</th>\n",
              "      <td>2020-01-01</td>\n",
              "      <td>Violent Crime</td>\n",
              "      <td>The Star</td>\n",
              "      <td>With 292 people shot, 2019 comes to a close as...</td>\n",
              "      <td>https://www.thestar.com/news/gta/2019/12/31/wi...</td>\n",
              "      <td>Toronto’s bloodiest year for gun violence is c...</td>\n",
              "    </tr>\n",
              "    <tr>\n",
              "      <th>1</th>\n",
              "      <td>2020-01-01</td>\n",
              "      <td>Violent Crime</td>\n",
              "      <td>The Star</td>\n",
              "      <td>Two men shot overnight in North York</td>\n",
              "      <td>https://www.thestar.com/news/crime/2019/12/31/...</td>\n",
              "      <td>Toronto police are investigating after a 24-ye...</td>\n",
              "    </tr>\n",
              "    <tr>\n",
              "      <th>2</th>\n",
              "      <td>2020-01-01</td>\n",
              "      <td>Violent Crime</td>\n",
              "      <td>The Star</td>\n",
              "      <td>Six arrested after downtown home invasion on B...</td>\n",
              "      <td>https://www.thestar.com/news/gta/2019/12/31/si...</td>\n",
              "      <td>Six people have been arrested following a viol...</td>\n",
              "    </tr>\n",
              "    <tr>\n",
              "      <th>3</th>\n",
              "      <td>2020-01-04</td>\n",
              "      <td>Violent Crime</td>\n",
              "      <td>The Star</td>\n",
              "      <td>Toronto police ID last homicide victim of 2019...</td>\n",
              "      <td>https://www.thestar.com/news/crime/2020/01/02/...</td>\n",
              "      <td>Toronto police have identified the city’s last...</td>\n",
              "    </tr>\n",
              "    <tr>\n",
              "      <th>4</th>\n",
              "      <td>2020-01-04</td>\n",
              "      <td>Traffic</td>\n",
              "      <td>The Star</td>\n",
              "      <td>SIU clears police after a car they initially c...</td>\n",
              "      <td>https://www.thestar.com/news/gta/2020/01/02/si...</td>\n",
              "      <td>It started in a Scarborough plaza, when Toront...</td>\n",
              "    </tr>\n",
              "  </tbody>\n",
              "</table>\n",
              "</div>"
            ],
            "text/plain": [
              "         Date  ...                                           raw text\n",
              "0  2020-01-01  ...  Toronto’s bloodiest year for gun violence is c...\n",
              "1  2020-01-01  ...  Toronto police are investigating after a 24-ye...\n",
              "2  2020-01-01  ...  Six people have been arrested following a viol...\n",
              "3  2020-01-04  ...  Toronto police have identified the city’s last...\n",
              "4  2020-01-04  ...  It started in a Scarborough plaza, when Toront...\n",
              "\n",
              "[5 rows x 6 columns]"
            ]
          },
          "metadata": {
            "tags": []
          },
          "execution_count": 46
        }
      ]
    },
    {
      "cell_type": "code",
      "metadata": {
        "id": "y1wwwXyaypbl",
        "colab_type": "code",
        "colab": {}
      },
      "source": [
        "nltk.download('punkt')\n",
        "nltk.download('stopwords')\n",
        "from nltk.corpus import stopwords\n",
        "from nltk import word_tokenize\n",
        "from nltk.stem import WordNetLemmatizer\n",
        "nltk.download('wordnet')\n",
        "import random\n",
        "from string import punctuation"
      ],
      "execution_count": 0,
      "outputs": []
    },
    {
      "cell_type": "markdown",
      "metadata": {
        "id": "bXdTgrMe4X-r",
        "colab_type": "text"
      },
      "source": [
        "For stop words, I used both the NLTK English stopwords, the stopwords-json from https://github.com/6/stopwords-json, and I created my own list specific to law enforcement."
      ]
    },
    {
      "cell_type": "code",
      "metadata": {
        "id": "5_cH_6jh8CwK",
        "colab_type": "code",
        "colab": {}
      },
      "source": [
        "stopwords_nltk = set(stopwords.words('english')) | set(punctuation)\n",
        "stopwords_json = {\"en\":[\"a\",\"a's\",\"able\",\"about\",\"above\",\"according\",\"accordingly\",\"across\",\"actually\",\"after\",\"afterwards\",\"again\",\"against\",\"ain't\",\"all\",\"allow\",\"allows\",\"almost\",\"alone\",\"along\",\"already\",\"also\",\"although\",\"always\",\"am\",\"among\",\"amongst\",\"an\",\"and\",\"another\",\"any\",\"anybody\",\"anyhow\",\"anyone\",\"anything\",\"anyway\",\"anyways\",\"anywhere\",\"apart\",\"appear\",\"appreciate\",\"appropriate\",\"are\",\"aren't\",\"around\",\"as\",\"aside\",\"ask\",\"asking\",\"associated\",\"at\",\"available\",\"away\",\"awfully\",\"b\",\"be\",\"became\",\"because\",\"become\",\"becomes\",\"becoming\",\"been\",\"before\",\"beforehand\",\"behind\",\"being\",\"believe\",\"below\",\"beside\",\"besides\",\"best\",\"better\",\"between\",\"beyond\",\"both\",\"brief\",\"but\",\"by\",\"c\",\"c'mon\",\"c's\",\"came\",\"can\",\"can't\",\"cannot\",\"cant\",\"cause\",\"causes\",\"certain\",\"certainly\",\"changes\",\"clearly\",\"co\",\"com\",\"come\",\"comes\",\"concerning\",\"consequently\",\"consider\",\"considering\",\"contain\",\"containing\",\"contains\",\"corresponding\",\"could\",\"couldn't\",\"course\",\"currently\",\"d\",\"definitely\",\"described\",\"despite\",\"did\",\"didn't\",\"different\",\"do\",\"does\",\"doesn't\",\"doing\",\"don't\",\"done\",\"down\",\"downwards\",\"during\",\"e\",\"each\",\"edu\",\"eg\",\"eight\",\"either\",\"else\",\"elsewhere\",\"enough\",\"entirely\",\"especially\",\"et\",\"etc\",\"even\",\"ever\",\"every\",\"everybody\",\"everyone\",\"everything\",\"everywhere\",\"ex\",\"exactly\",\"example\",\"except\",\"f\",\"far\",\"few\",\"fifth\",\"first\",\"five\",\"followed\",\"following\",\"follows\",\"for\",\"former\",\"formerly\",\"forth\",\"four\",\"from\",\"further\",\"furthermore\",\"g\",\"get\",\"gets\",\"getting\",\"given\",\"gives\",\"go\",\"goes\",\"going\",\"gone\",\"got\",\"gotten\",\"greetings\",\"h\",\"had\",\"hadn't\",\"happens\",\"hardly\",\"has\",\"hasn't\",\"have\",\"haven't\",\"having\",\"he\",\"he's\",\"hello\",\"help\",\"hence\",\"her\",\"here\",\"here's\",\"hereafter\",\"hereby\",\"herein\",\"hereupon\",\"hers\",\"herself\",\"hi\",\"him\",\"himself\",\"his\",\"hither\",\"hopefully\",\"how\",\"howbeit\",\"however\",\"i\",\"i'd\",\"i'll\",\"i'm\",\"i've\",\"ie\",\"if\",\"ignored\",\"immediate\",\"in\",\"inasmuch\",\"inc\",\"indeed\",\"indicate\",\"indicated\",\"indicates\",\"inner\",\"insofar\",\"instead\",\"into\",\"inward\",\"is\",\"isn't\",\"it\",\"it'd\",\"it'll\",\"it's\",\"its\",\"itself\",\"j\",\"just\",\"k\",\"keep\",\"keeps\",\"kept\",\"know\",\"known\",\"knows\",\"l\",\"last\",\"lately\",\"later\",\"latter\",\"latterly\",\"least\",\"less\",\"lest\",\"let\",\"let's\",\"like\",\"liked\",\"likely\",\"little\",\"look\",\"looking\",\"looks\",\"ltd\",\"m\",\"mainly\",\"many\",\"may\",\"maybe\",\"me\",\"mean\",\"meanwhile\",\"merely\",\"might\",\"more\",\"moreover\",\"most\",\"mostly\",\"much\",\"must\",\"my\",\"myself\",\"n\",\"name\",\"namely\",\"nd\",\"near\",\"nearly\",\"necessary\",\"need\",\"needs\",\"neither\",\"never\",\"nevertheless\",\"new\",\"next\",\"nine\",\"no\",\"nobody\",\"non\",\"none\",\"noone\",\"nor\",\"normally\",\"not\",\"nothing\",\"novel\",\"now\",\"nowhere\",\"o\",\"obviously\",\"of\",\"off\",\"often\",\"oh\",\"ok\",\"okay\",\"old\",\"on\",\"once\",\"one\",\"ones\",\"only\",\"onto\",\"or\",\"other\",\"others\",\"otherwise\",\"ought\",\"our\",\"ours\",\"ourselves\",\"out\",\"outside\",\"over\",\"overall\",\"own\",\"p\",\"particular\",\"particularly\",\"per\",\"perhaps\",\"placed\",\"please\",\"plus\",\"possible\",\"presumably\",\"probably\",\"provides\",\"q\",\"que\",\"quite\",\"qv\",\"r\",\"rather\",\"rd\",\"re\",\"really\",\"reasonably\",\"regarding\",\"regardless\",\"regards\",\"relatively\",\"respectively\",\"right\",\"s\",\"said\",\"same\",\"saw\",\"say\",\"saying\",\"says\",\"second\",\"secondly\",\"see\",\"seeing\",\"seem\",\"seemed\",\"seeming\",\"seems\",\"seen\",\"self\",\"selves\",\"sensible\",\"sent\",\"serious\",\"seriously\",\"seven\",\"several\",\"shall\",\"she\",\"should\",\"shouldn't\",\"since\",\"six\",\"so\",\"some\",\"somebody\",\"somehow\",\"someone\",\"something\",\"sometime\",\"sometimes\",\"somewhat\",\"somewhere\",\"soon\",\"sorry\",\"specified\",\"specify\",\"specifying\",\"still\",\"sub\",\"such\",\"sup\",\"sure\",\"t\",\"t's\",\"take\",\"taken\",\"tell\",\"tends\",\"th\",\"than\",\"thank\",\"thanks\",\"thanx\",\"that\",\"that's\",\"thats\",\"the\",\"their\",\"theirs\",\"them\",\"themselves\",\"then\",\"thence\",\"there\",\"there's\",\"thereafter\",\"thereby\",\"therefore\",\"therein\",\"theres\",\"thereupon\",\"these\",\"they\",\"they'd\",\"they'll\",\"they're\",\"they've\",\"think\",\"third\",\"this\",\"thorough\",\"thoroughly\",\"those\",\"though\",\"three\",\"through\",\"throughout\",\"thru\",\"thus\",\"to\",\"together\",\"too\",\"took\",\"toward\",\"towards\",\"tried\",\"tries\",\"truly\",\"try\",\"trying\",\"twice\",\"two\",\"u\",\"un\",\"under\",\"unfortunately\",\"unless\",\"unlikely\",\"until\",\"unto\",\"up\",\"upon\",\"us\",\"use\",\"used\",\"useful\",\"uses\",\"using\",\"usually\",\"uucp\",\"v\",\"value\",\"various\",\"very\",\"via\",\"viz\",\"vs\",\"w\",\"want\",\"wants\",\"was\",\"wasn't\",\"way\",\"we\",\"we'd\",\"we'll\",\"we're\",\"we've\",\"welcome\",\"well\",\"went\",\"were\",\"weren't\",\"what\",\"what's\",\"whatever\",\"when\",\"whence\",\"whenever\",\"where\",\"where's\",\"whereafter\",\"whereas\",\"whereby\",\"wherein\",\"whereupon\",\"wherever\",\"whether\",\"which\",\"while\",\"whither\",\"who\",\"who's\",\"whoever\",\"whole\",\"whom\",\"whose\",\"why\",\"will\",\"willing\",\"wish\",\"with\",\"within\",\"without\",\"won't\",\"wonder\",\"would\",\"wouldn't\",\"x\",\"y\",\"yes\",\"yet\",\"you\",\"you'd\",\"you'll\",\"you're\",\"you've\",\"your\",\"yours\",\"yourself\",\"yourselves\",\"z\",\"zero\"]}\n",
        "stopwords_police = [\"a.m.\",\"p.m.\",\"near\",\"“\",\"”\",\"’\",\"police\",\"officer\",\"toronto\",\"say\",\"also\",\"year\"]\n",
        "stoplist_combined = set.union(stopwords_nltk, stopwords_json, stopwords_police)"
      ],
      "execution_count": 0,
      "outputs": []
    },
    {
      "cell_type": "code",
      "metadata": {
        "id": "gYtmC1wV9eq6",
        "colab_type": "code",
        "colab": {
          "base_uri": "https://localhost:8080/",
          "height": 85
        },
        "outputId": "d3884ac1-5112-4a01-c6a0-b1194f630be1"
      },
      "source": [
        "from nltk import pos_tag\n",
        "from nltk.stem import WordNetLemmatizer\n",
        "nltk.download('averaged_perceptron_tagger')"
      ],
      "execution_count": 50,
      "outputs": [
        {
          "output_type": "stream",
          "text": [
            "[nltk_data] Downloading package averaged_perceptron_tagger to\n",
            "[nltk_data]     /root/nltk_data...\n",
            "[nltk_data]   Unzipping taggers/averaged_perceptron_tagger.zip.\n"
          ],
          "name": "stdout"
        },
        {
          "output_type": "execute_result",
          "data": {
            "text/plain": [
              "True"
            ]
          },
          "metadata": {
            "tags": []
          },
          "execution_count": 50
        }
      ]
    },
    {
      "cell_type": "code",
      "metadata": {
        "id": "RjMXk0Pf9lYz",
        "colab_type": "code",
        "colab": {}
      },
      "source": [
        "wnl = WordNetLemmatizer()\n",
        "\n",
        "def penn2morphy(penntag):\n",
        "  morphy_tag = {'NN':'n', 'JJ':'a', 'VB':'v', 'RB':'r'}\n",
        "  try:\n",
        "    return morphy_tag[penntag[:2]]\n",
        "  except:\n",
        "    return 'n'\n",
        "\n",
        "def lemmatize_sent(text):\n",
        "  return [wnl.lemmatize(word.lower(), pos=penn2morphy(tag)) for word, tag in pos_tag(word_tokenize(text))]"
      ],
      "execution_count": 0,
      "outputs": []
    },
    {
      "cell_type": "code",
      "metadata": {
        "id": "jYQaMSZt_VEB",
        "colab_type": "code",
        "colab": {}
      },
      "source": [
        "def preprocess_text(text):\n",
        "  return [word for word in lemmatize_sent(text) if word not in stoplist_combined and not word.isdigit()]"
      ],
      "execution_count": 0,
      "outputs": []
    },
    {
      "cell_type": "code",
      "metadata": {
        "id": "u84k8B6O7ib2",
        "colab_type": "code",
        "colab": {}
      },
      "source": [
        "tstar_articles['Cleaned_Tokens'] = tstar_articles['raw text'].apply(preprocess_text)"
      ],
      "execution_count": 0,
      "outputs": []
    },
    {
      "cell_type": "code",
      "metadata": {
        "id": "LQ1cyEUKBDjb",
        "colab_type": "code",
        "colab": {
          "base_uri": "https://localhost:8080/",
          "height": 669
        },
        "outputId": "aa337680-49a6-4bff-dd84-3b6a8ad29e95"
      },
      "source": [
        "tstar_articles.head(20)"
      ],
      "execution_count": 118,
      "outputs": [
        {
          "output_type": "execute_result",
          "data": {
            "text/html": [
              "<div>\n",
              "<style scoped>\n",
              "    .dataframe tbody tr th:only-of-type {\n",
              "        vertical-align: middle;\n",
              "    }\n",
              "\n",
              "    .dataframe tbody tr th {\n",
              "        vertical-align: top;\n",
              "    }\n",
              "\n",
              "    .dataframe thead th {\n",
              "        text-align: right;\n",
              "    }\n",
              "</style>\n",
              "<table border=\"1\" class=\"dataframe\">\n",
              "  <thead>\n",
              "    <tr style=\"text-align: right;\">\n",
              "      <th></th>\n",
              "      <th>Date</th>\n",
              "      <th>Category</th>\n",
              "      <th>Publisher</th>\n",
              "      <th>Heading</th>\n",
              "      <th>URL</th>\n",
              "      <th>raw text</th>\n",
              "      <th>Cleaned_Tokens</th>\n",
              "    </tr>\n",
              "  </thead>\n",
              "  <tbody>\n",
              "    <tr>\n",
              "      <th>0</th>\n",
              "      <td>2020-01-01</td>\n",
              "      <td>Violent Crime</td>\n",
              "      <td>The Star</td>\n",
              "      <td>With 292 people shot, 2019 comes to a close as...</td>\n",
              "      <td>https://www.thestar.com/news/gta/2019/12/31/wi...</td>\n",
              "      <td>Toronto’s bloodiest year for gun violence is c...</td>\n",
              "      <td>[bloody, gun, violence, come, close, start, ea...</td>\n",
              "    </tr>\n",
              "    <tr>\n",
              "      <th>1</th>\n",
              "      <td>2020-01-01</td>\n",
              "      <td>Violent Crime</td>\n",
              "      <td>The Star</td>\n",
              "      <td>Two men shot overnight in North York</td>\n",
              "      <td>https://www.thestar.com/news/crime/2019/12/31/...</td>\n",
              "      <td>Toronto police are investigating after a 24-ye...</td>\n",
              "      <td>[investigate, 24-year-old, man, 17-year-old, b...</td>\n",
              "    </tr>\n",
              "    <tr>\n",
              "      <th>2</th>\n",
              "      <td>2020-01-01</td>\n",
              "      <td>Violent Crime</td>\n",
              "      <td>The Star</td>\n",
              "      <td>Six arrested after downtown home invasion on B...</td>\n",
              "      <td>https://www.thestar.com/news/gta/2019/12/31/si...</td>\n",
              "      <td>Six people have been arrested following a viol...</td>\n",
              "      <td>[six, people, arrest, follow, violent, home, i...</td>\n",
              "    </tr>\n",
              "    <tr>\n",
              "      <th>3</th>\n",
              "      <td>2020-01-04</td>\n",
              "      <td>Violent Crime</td>\n",
              "      <td>The Star</td>\n",
              "      <td>Toronto police ID last homicide victim of 2019...</td>\n",
              "      <td>https://www.thestar.com/news/crime/2020/01/02/...</td>\n",
              "      <td>Toronto police have identified the city’s last...</td>\n",
              "      <td>[identify, city, last, homicide, victim, man, ...</td>\n",
              "    </tr>\n",
              "    <tr>\n",
              "      <th>4</th>\n",
              "      <td>2020-01-04</td>\n",
              "      <td>Traffic</td>\n",
              "      <td>The Star</td>\n",
              "      <td>SIU clears police after a car they initially c...</td>\n",
              "      <td>https://www.thestar.com/news/gta/2020/01/02/si...</td>\n",
              "      <td>It started in a Scarborough plaza, when Toront...</td>\n",
              "      <td>[start, scarborough, plaza, go, question, pass...</td>\n",
              "    </tr>\n",
              "    <tr>\n",
              "      <th>5</th>\n",
              "      <td>2020-01-05</td>\n",
              "      <td>Traffic</td>\n",
              "      <td>The Star</td>\n",
              "      <td>Man dead following hit-and-run at Jarvis and G...</td>\n",
              "      <td>https://www.thestar.com/news/gta/2020/01/04/ma...</td>\n",
              "      <td>A 65-year-old man has died after being struck ...</td>\n",
              "      <td>[65-year-old, man, die, strike, driver, vehicl...</td>\n",
              "    </tr>\n",
              "    <tr>\n",
              "      <th>6</th>\n",
              "      <td>2020-01-07</td>\n",
              "      <td>Community Policing &amp; Demographics</td>\n",
              "      <td>The Star</td>\n",
              "      <td>Mornelle Court residents took ‘our community b...</td>\n",
              "      <td>https://www.thestar.com/news/gta/2020/01/06/mo...</td>\n",
              "      <td>When Angela Brackett convinced her Mornelle Co...</td>\n",
              "      <td>[angela, brackett, convince, mornelle, court, ...</td>\n",
              "    </tr>\n",
              "    <tr>\n",
              "      <th>7</th>\n",
              "      <td>2020-01-07</td>\n",
              "      <td>Community Policing &amp; Demographics</td>\n",
              "      <td>The Star</td>\n",
              "      <td>Do you recognize this dog? She was found zippe...</td>\n",
              "      <td>https://www.thestar.com/news/gta/2020/01/06/do...</td>\n",
              "      <td>Toronto police are appealing for more informat...</td>\n",
              "      <td>[appeal, information, dog, find, abandon, zip,...</td>\n",
              "    </tr>\n",
              "    <tr>\n",
              "      <th>8</th>\n",
              "      <td>2020-01-07</td>\n",
              "      <td>Community Policing &amp; Demographics</td>\n",
              "      <td>The Star</td>\n",
              "      <td>City hall security upgrades could include meta...</td>\n",
              "      <td>https://www.thestar.com/news/gta/2020/01/06/ci...</td>\n",
              "      <td>Public access to Toronto City Hall could soon ...</td>\n",
              "      <td>[public, access, city, hall, could, soon, incl...</td>\n",
              "    </tr>\n",
              "    <tr>\n",
              "      <th>9</th>\n",
              "      <td>2020-01-07</td>\n",
              "      <td>Race-Based Data Collection</td>\n",
              "      <td>The Star</td>\n",
              "      <td>Black youth more likely to be charged and less...</td>\n",
              "      <td>https://www.thestar.com/news/gta/2020/01/06/bl...</td>\n",
              "      <td>Young Black people were less likely than white...</td>\n",
              "      <td>[young, black, people, less, likely, white, yo...</td>\n",
              "    </tr>\n",
              "    <tr>\n",
              "      <th>10</th>\n",
              "      <td>2020-01-07</td>\n",
              "      <td>Community Policing &amp; Demographics</td>\n",
              "      <td>The Star</td>\n",
              "      <td>Crime Stoppers stops giving rewards, says will...</td>\n",
              "      <td>https://www.thestar.com/news/gta/2020/01/06/cr...</td>\n",
              "      <td>Toronto Crime Stoppers says it will no longer ...</td>\n",
              "      <td>[crime, stopper, longer, hand, financial, rewa...</td>\n",
              "    </tr>\n",
              "    <tr>\n",
              "      <th>11</th>\n",
              "      <td>2020-01-08</td>\n",
              "      <td>Violent Crime</td>\n",
              "      <td>The Star</td>\n",
              "      <td>Toronto police arrest three Brampton teens aft...</td>\n",
              "      <td>https://www.thestar.com/news/crime/2020/01/07/...</td>\n",
              "      <td>Toronto police announced Tuesday that they hav...</td>\n",
              "      <td>[announce, tuesday, arrest, third, brampton, t...</td>\n",
              "    </tr>\n",
              "    <tr>\n",
              "      <th>12</th>\n",
              "      <td>2020-01-08</td>\n",
              "      <td>Traffic</td>\n",
              "      <td>The Star</td>\n",
              "      <td>Weekend hit-and-run deaths raise a question: W...</td>\n",
              "      <td>https://www.thestar.com/news/gta/2020/01/07/we...</td>\n",
              "      <td>We don’t know his name, or his face. Just that...</td>\n",
              "      <td>[know, name, face, wear, brown, loafer, 65-yea...</td>\n",
              "    </tr>\n",
              "    <tr>\n",
              "      <th>13</th>\n",
              "      <td>2020-01-09</td>\n",
              "      <td>Traffic</td>\n",
              "      <td>The Star</td>\n",
              "      <td>Toronto police release video in investigation ...</td>\n",
              "      <td>https://www.thestar.com/news/gta/2020/01/08/to...</td>\n",
              "      <td>Toronto police have released surveillance foot...</td>\n",
              "      <td>[release, surveillance, footage, hope, identif...</td>\n",
              "    </tr>\n",
              "    <tr>\n",
              "      <th>14</th>\n",
              "      <td>2020-01-11</td>\n",
              "      <td>Violent Crime</td>\n",
              "      <td>The Star</td>\n",
              "      <td>Man killed outside Scarborough building was ‘h...</td>\n",
              "      <td>https://www.thestar.com/news/gta/2020/01/10/ma...</td>\n",
              "      <td>A 26-year-old man shot dead on Dec. 29 outside...</td>\n",
              "      <td>[26-year-old, man, shot, dead, dec., outside, ...</td>\n",
              "    </tr>\n",
              "    <tr>\n",
              "      <th>15</th>\n",
              "      <td>2020-01-11</td>\n",
              "      <td>Persons in Crisis</td>\n",
              "      <td>The Star</td>\n",
              "      <td>Toronto police arrest man after photo shows sw...</td>\n",
              "      <td>https://www.thestar.com/news/gta/2020/01/10/to...</td>\n",
              "      <td>When Shane Morrow went to visit his uncle Larr...</td>\n",
              "      <td>[shane, morrow, go, visit, uncle, larry, glend...</td>\n",
              "    </tr>\n",
              "    <tr>\n",
              "      <th>16</th>\n",
              "      <td>2020-01-12</td>\n",
              "      <td>Violent Crime</td>\n",
              "      <td>The Star</td>\n",
              "      <td>Man dead after overnight shooting in Scarborough</td>\n",
              "      <td>https://www.thestar.com/news/gta/2020/01/11/ma...</td>\n",
              "      <td>A man is dead after an overnight shooting in S...</td>\n",
              "      <td>[man, dead, overnight, shooting, scarborough, ...</td>\n",
              "    </tr>\n",
              "    <tr>\n",
              "      <th>17</th>\n",
              "      <td>2020-01-12</td>\n",
              "      <td>Violent Crime</td>\n",
              "      <td>The Star</td>\n",
              "      <td>Man arrested after committing ‘indecent act’ i...</td>\n",
              "      <td>https://www.thestar.com/news/gta/2020/01/12/ma...</td>\n",
              "      <td>A man has been arrested after he was caught co...</td>\n",
              "      <td>[man, arrest, catch, commit, indecent, act, in...</td>\n",
              "    </tr>\n",
              "    <tr>\n",
              "      <th>18</th>\n",
              "      <td>2020-01-13</td>\n",
              "      <td>Community Policing &amp; Demographics</td>\n",
              "      <td>The Star</td>\n",
              "      <td>Fire at Bloor and Sherbourne streets closes br...</td>\n",
              "      <td>https://www.thestar.com/news/gta/2020/01/12/bl...</td>\n",
              "      <td>A Sunday evening fire ravaged a bridge near Bl...</td>\n",
              "      <td>[sunday, evening, fire, ravage, bridge, bloor,...</td>\n",
              "    </tr>\n",
              "    <tr>\n",
              "      <th>19</th>\n",
              "      <td>2020-01-13</td>\n",
              "      <td>Community Policing &amp; Demographics</td>\n",
              "      <td>The Star</td>\n",
              "      <td>Despite touting new investments, Toronto’s pro...</td>\n",
              "      <td>https://www.thestar.com/news/gta/2020/01/13/de...</td>\n",
              "      <td>Toronto’s mayor and city staff are touting sig...</td>\n",
              "      <td>[mayor, city, staff, tout, significant, invest...</td>\n",
              "    </tr>\n",
              "  </tbody>\n",
              "</table>\n",
              "</div>"
            ],
            "text/plain": [
              "          Date  ...                                     Cleaned_Tokens\n",
              "0   2020-01-01  ...  [bloody, gun, violence, come, close, start, ea...\n",
              "1   2020-01-01  ...  [investigate, 24-year-old, man, 17-year-old, b...\n",
              "2   2020-01-01  ...  [six, people, arrest, follow, violent, home, i...\n",
              "3   2020-01-04  ...  [identify, city, last, homicide, victim, man, ...\n",
              "4   2020-01-04  ...  [start, scarborough, plaza, go, question, pass...\n",
              "5   2020-01-05  ...  [65-year-old, man, die, strike, driver, vehicl...\n",
              "6   2020-01-07  ...  [angela, brackett, convince, mornelle, court, ...\n",
              "7   2020-01-07  ...  [appeal, information, dog, find, abandon, zip,...\n",
              "8   2020-01-07  ...  [public, access, city, hall, could, soon, incl...\n",
              "9   2020-01-07  ...  [young, black, people, less, likely, white, yo...\n",
              "10  2020-01-07  ...  [crime, stopper, longer, hand, financial, rewa...\n",
              "11  2020-01-08  ...  [announce, tuesday, arrest, third, brampton, t...\n",
              "12  2020-01-08  ...  [know, name, face, wear, brown, loafer, 65-yea...\n",
              "13  2020-01-09  ...  [release, surveillance, footage, hope, identif...\n",
              "14  2020-01-11  ...  [26-year-old, man, shot, dead, dec., outside, ...\n",
              "15  2020-01-11  ...  [shane, morrow, go, visit, uncle, larry, glend...\n",
              "16  2020-01-12  ...  [man, dead, overnight, shooting, scarborough, ...\n",
              "17  2020-01-12  ...  [man, arrest, catch, commit, indecent, act, in...\n",
              "18  2020-01-13  ...  [sunday, evening, fire, ravage, bridge, bloor,...\n",
              "19  2020-01-13  ...  [mayor, city, staff, tout, significant, invest...\n",
              "\n",
              "[20 rows x 7 columns]"
            ]
          },
          "metadata": {
            "tags": []
          },
          "execution_count": 118
        }
      ]
    },
    {
      "cell_type": "code",
      "metadata": {
        "id": "Z2IRI5wWd_rr",
        "colab_type": "code",
        "colab": {
          "base_uri": "https://localhost:8080/",
          "height": 34
        },
        "outputId": "96806fc3-a14d-4087-a7db-68180b8be0de"
      },
      "source": [
        "tstar_articles['raw text'].apply(lambda x: len(x.split(' '))).sum()"
      ],
      "execution_count": 113,
      "outputs": [
        {
          "output_type": "execute_result",
          "data": {
            "text/plain": [
              "78475"
            ]
          },
          "metadata": {
            "tags": []
          },
          "execution_count": 113
        }
      ]
    },
    {
      "cell_type": "code",
      "metadata": {
        "id": "cKaSmR4deKj2",
        "colab_type": "code",
        "colab": {
          "base_uri": "https://localhost:8080/",
          "height": 272
        },
        "outputId": "8afdf5f9-49a9-474e-97c1-98723fbc7c79"
      },
      "source": [
        "tstar_articles['Cleaned_Tokens'].apply(lambda x: len(x.split(' '))).sum()"
      ],
      "execution_count": 115,
      "outputs": [
        {
          "output_type": "error",
          "ename": "AttributeError",
          "evalue": "ignored",
          "traceback": [
            "\u001b[0;31m---------------------------------------------------------------------------\u001b[0m",
            "\u001b[0;31mAttributeError\u001b[0m                            Traceback (most recent call last)",
            "\u001b[0;32m<ipython-input-115-0b8cfb26c9c5>\u001b[0m in \u001b[0;36m<module>\u001b[0;34m()\u001b[0m\n\u001b[0;32m----> 1\u001b[0;31m \u001b[0mtstar_articles\u001b[0m\u001b[0;34m[\u001b[0m\u001b[0;34m'Cleaned_Tokens'\u001b[0m\u001b[0;34m]\u001b[0m\u001b[0;34m.\u001b[0m\u001b[0mapply\u001b[0m\u001b[0;34m(\u001b[0m\u001b[0;32mlambda\u001b[0m \u001b[0mx\u001b[0m\u001b[0;34m:\u001b[0m \u001b[0mlen\u001b[0m\u001b[0;34m(\u001b[0m\u001b[0mx\u001b[0m\u001b[0;34m.\u001b[0m\u001b[0msplit\u001b[0m\u001b[0;34m(\u001b[0m\u001b[0;34m' '\u001b[0m\u001b[0;34m)\u001b[0m\u001b[0;34m)\u001b[0m\u001b[0;34m)\u001b[0m\u001b[0;34m.\u001b[0m\u001b[0msum\u001b[0m\u001b[0;34m(\u001b[0m\u001b[0;34m)\u001b[0m\u001b[0;34m\u001b[0m\u001b[0;34m\u001b[0m\u001b[0m\n\u001b[0m",
            "\u001b[0;32m/usr/local/lib/python3.6/dist-packages/pandas/core/series.py\u001b[0m in \u001b[0;36mapply\u001b[0;34m(self, func, convert_dtype, args, **kwds)\u001b[0m\n\u001b[1;32m   3846\u001b[0m             \u001b[0;32melse\u001b[0m\u001b[0;34m:\u001b[0m\u001b[0;34m\u001b[0m\u001b[0;34m\u001b[0m\u001b[0m\n\u001b[1;32m   3847\u001b[0m                 \u001b[0mvalues\u001b[0m \u001b[0;34m=\u001b[0m \u001b[0mself\u001b[0m\u001b[0;34m.\u001b[0m\u001b[0mastype\u001b[0m\u001b[0;34m(\u001b[0m\u001b[0mobject\u001b[0m\u001b[0;34m)\u001b[0m\u001b[0;34m.\u001b[0m\u001b[0mvalues\u001b[0m\u001b[0;34m\u001b[0m\u001b[0;34m\u001b[0m\u001b[0m\n\u001b[0;32m-> 3848\u001b[0;31m                 \u001b[0mmapped\u001b[0m \u001b[0;34m=\u001b[0m \u001b[0mlib\u001b[0m\u001b[0;34m.\u001b[0m\u001b[0mmap_infer\u001b[0m\u001b[0;34m(\u001b[0m\u001b[0mvalues\u001b[0m\u001b[0;34m,\u001b[0m \u001b[0mf\u001b[0m\u001b[0;34m,\u001b[0m \u001b[0mconvert\u001b[0m\u001b[0;34m=\u001b[0m\u001b[0mconvert_dtype\u001b[0m\u001b[0;34m)\u001b[0m\u001b[0;34m\u001b[0m\u001b[0;34m\u001b[0m\u001b[0m\n\u001b[0m\u001b[1;32m   3849\u001b[0m \u001b[0;34m\u001b[0m\u001b[0m\n\u001b[1;32m   3850\u001b[0m         \u001b[0;32mif\u001b[0m \u001b[0mlen\u001b[0m\u001b[0;34m(\u001b[0m\u001b[0mmapped\u001b[0m\u001b[0;34m)\u001b[0m \u001b[0;32mand\u001b[0m \u001b[0misinstance\u001b[0m\u001b[0;34m(\u001b[0m\u001b[0mmapped\u001b[0m\u001b[0;34m[\u001b[0m\u001b[0;36m0\u001b[0m\u001b[0;34m]\u001b[0m\u001b[0;34m,\u001b[0m \u001b[0mSeries\u001b[0m\u001b[0;34m)\u001b[0m\u001b[0;34m:\u001b[0m\u001b[0;34m\u001b[0m\u001b[0;34m\u001b[0m\u001b[0m\n",
            "\u001b[0;32mpandas/_libs/lib.pyx\u001b[0m in \u001b[0;36mpandas._libs.lib.map_infer\u001b[0;34m()\u001b[0m\n",
            "\u001b[0;32m<ipython-input-115-0b8cfb26c9c5>\u001b[0m in \u001b[0;36m<lambda>\u001b[0;34m(x)\u001b[0m\n\u001b[0;32m----> 1\u001b[0;31m \u001b[0mtstar_articles\u001b[0m\u001b[0;34m[\u001b[0m\u001b[0;34m'Cleaned_Tokens'\u001b[0m\u001b[0;34m]\u001b[0m\u001b[0;34m.\u001b[0m\u001b[0mapply\u001b[0m\u001b[0;34m(\u001b[0m\u001b[0;32mlambda\u001b[0m \u001b[0mx\u001b[0m\u001b[0;34m:\u001b[0m \u001b[0mlen\u001b[0m\u001b[0;34m(\u001b[0m\u001b[0mx\u001b[0m\u001b[0;34m.\u001b[0m\u001b[0msplit\u001b[0m\u001b[0;34m(\u001b[0m\u001b[0;34m' '\u001b[0m\u001b[0;34m)\u001b[0m\u001b[0;34m)\u001b[0m\u001b[0;34m)\u001b[0m\u001b[0;34m.\u001b[0m\u001b[0msum\u001b[0m\u001b[0;34m(\u001b[0m\u001b[0;34m)\u001b[0m\u001b[0;34m\u001b[0m\u001b[0;34m\u001b[0m\u001b[0m\n\u001b[0m",
            "\u001b[0;31mAttributeError\u001b[0m: 'list' object has no attribute 'split'"
          ]
        }
      ]
    },
    {
      "cell_type": "markdown",
      "metadata": {
        "id": "iTWTMsbgG_id",
        "colab_type": "text"
      },
      "source": [
        "Testing various sets of cleaned_tokens to see which words should be stopped, and see what the data looks like."
      ]
    },
    {
      "cell_type": "code",
      "metadata": {
        "id": "-bkYMJUKBeNj",
        "colab_type": "code",
        "colab": {}
      },
      "source": [
        "freq = nltk.FreqDist(tstar_articles.iloc[6,6])\n",
        "for key,val in freq.items():\n",
        "  print(str(key) + ':' + str(val))\n",
        "\n",
        "freq.plot(20, cumulative=False)"
      ],
      "execution_count": 0,
      "outputs": []
    },
    {
      "cell_type": "markdown",
      "metadata": {
        "id": "vX-WF16XT_qt",
        "colab_type": "text"
      },
      "source": [
        "# Vectorization"
      ]
    },
    {
      "cell_type": "code",
      "metadata": {
        "id": "V9_KxRV8HMLZ",
        "colab_type": "code",
        "colab": {}
      },
      "source": [
        "from collections import Counter"
      ],
      "execution_count": 0,
      "outputs": []
    },
    {
      "cell_type": "code",
      "metadata": {
        "id": "pZpcpo9wHphN",
        "colab_type": "code",
        "colab": {
          "base_uri": "https://localhost:8080/",
          "height": 71
        },
        "outputId": "3115906c-857f-49ff-d1bb-f6fa46e20c12"
      },
      "source": [
        "sent1 = tstar_articles.iloc[0,6]\n",
        "sent2 = tstar_articles.iloc[1,6]\n",
        "\n",
        "print(Counter(sent1))\n",
        "print(Counter(sent2))"
      ],
      "execution_count": 103,
      "outputs": [
        {
          "output_type": "stream",
          "text": [
            "Counter({'gun': 14, 'violence': 9, 'shooting': 7, 'city': 5, 'mayor': 5, 'continue': 4, 'kill': 4, 'project': 4, 'shoot': 3, 'avenue': 3, 'victim': 3, 'people': 3, 'record': 3, 'address': 3, 'community': 3, 'saunders': 3, 'lead': 3, 'come': 2, 'early': 2, 'man': 2, 'road': 2, 'rush': 2, 'day': 2, 'finch': 2, 'new': 2, 'eve': 2, 'men': 2, 'hospital': 2, 'set': 2, 'increase': 2, 'saw': 2, 'total': 2, 'overall': 2, 'time': 2, 'glen': 2, 'tory': 2, 'gang': 2, 'include': 2, 'investment': 2, 'federal': 2, 'government': 2, 'chief': 2, 'emphasize': 2, 'strategic': 2, 'result': 2, 'homicide': 2, 'bloody': 1, 'close': 1, 'start': 1, 'jan.': 1, 'oakwood': 1, 'vaughan': 1, 'trauma': 1, 'centre': 1, 'survive': 1, 'last': 1, 'double': 1, 'jane': 1, 'street': 1, 'west': 1, 'hour': 1, 'another': 1, 'shot': 1, 'evening': 1, 'two': 1, 'first': 1, 'serious': 1, 'condition': 1, 'second': 1, 'die': 1, 'scarborough': 1, 'neilson': 1, 'crow': 1, 'trail': 1, 'east': 1, 'injure': 1, 'previous': 1, 'data': 1, 'go': 1, 'back': 1, 'despite': 1, 'per': 1, 'cent': 1, 'number': 1, 'compare': 1, 'seven': 1, 'expert': 1, 'combined': 1, 'injury': 1, 'death': 1, 'good': 1, 'measure': 1, 'fatal': 1, 'alone': 1, 'part': 1, 'whether': 1, 'live': 1, 'dy': 1, 'decide': 1, 'factor': 1, 'like': 1, 'health': 1, 'care': 1, 'random': 1, 'chance': 1, 'emailed': 1, 'statement': 1, 'courtney': 1, 'spokesperson': 1, 'john': 1, 'work': 1, 'closely': 1, 'funding': 1, 'front': 1, 'line': 1, 'neighbourhood': 1, 'well': 1, 'root': 1, 'advocate': 1, 'province': 1, 'call': 1, 'much': 1, 'tough': 1, 'bail': 1, 'sentence': 1, 'law': 1, 'crime': 1, 'add': 1, 'plan': 1, 'bring': 1, 'together': 1, 'gta': 1, 'municipality': 1, 'representative': 1, 'provincial': 1, 'discuss': 1, 'else': 1, 'across': 1, 'region': 1, 'violence.': 1, 'year-end': 1, 'news': 1, 'conference': 1, 'dominate': 1, 'topic': 1, 'mark': 1, 'need': 1, 'grow': 1, 'increasingly': 1, 'complex': 1, 'approach': 1, 'adopt': 1, 'space': 1, '4.5-million': 1, 'anti-gun': 1, 'wrap': 1, 'week': 1, 'late': 1, 'november': 1, 'presence': 1, 'area': 1, 'hundred': 1, 'arrest': 1, 'ultimately': 1, 'reduction': 1, 'particular': 1, 'enforcement': 1, 'significant': 1, 'seizure': 1, 'past': 1, 'would': 1, 'blanket': 1, 'acknowledge': 1, 'divisive': 1, 'among': 1, 'resident': 1, 'rely': 1, 'intelligence': 1, 'unit': 1, 'lot': 1, 'surgical.': 1, 'spike': 1, 'partially': 1, 'attribute': 1, 'drug': 1, 'trade': 1, 'particularly': 1, 'around': 1, 'highly': 1, 'addictive': 1, 'opioid': 1, 'fentanyl': 1, 'game': 1, 'changer.': 1, 'buyback': 1, 'program': 1, 'surrender': 1, '3,100': 1, 'firearm': 1, '2,300': 1, 'handgun': 1, 'accord': 1, 'office': 1, 'accounting': 1, 'population': 1, 'growth': 1, 'rate': 1, 'far': 1, 'exceed': 1, 'even': 1, 'dub': 1, 'amid': 1, 'forty-three': 1, 'one': 1, 'woman': 1, 'file': 1, 'wendy': 1, 'gillis': 1, 'star': 1, 'staff': 1})\n",
            "Counter({'find': 2, 'jane': 2, 'street': 2, 'investigate': 1, '24-year-old': 1, 'man': 1, '17-year-old': 1, 'boy': 1, 'shot': 1, 'north': 1, 'york': 1, 'early': 1, 'tuesday': 1, 'morning': 1, 'receive': 1, 'call': 1, 'shooting': 1, 'around': 1, 'firgrove': 1, 'crescent': 1, 'south': 1, 'finch': 1, 'avenue': 1, 'west': 1, 'arrive': 1, 'one': 1, 'victim': 1, 'ground': 1, 'second': 1, 'nearby': 1, 'turf': 1, 'grass': 1, 'way': 1, 'const': 1, 'caroline': 1, 'de': 1, 'kloet': 1, 'rush': 1, 'hospital': 1, 'remain': 1, 'serious': 1, 'injury': 1, 'suspect': 1, 'information': 1, 'release': 1})\n"
          ],
          "name": "stdout"
        }
      ]
    },
    {
      "cell_type": "code",
      "metadata": {
        "id": "EvzpqdeeIKSP",
        "colab_type": "code",
        "colab": {}
      },
      "source": [
        "from io import StringIO\n",
        "from sklearn.feature_extraction.text import CountVectorizer\n",
        "from sklearn.model_selection import train_test_split\n"
      ],
      "execution_count": 0,
      "outputs": []
    },
    {
      "cell_type": "code",
      "metadata": {
        "id": "GmhKi_8ISPum",
        "colab_type": "code",
        "colab": {}
      },
      "source": [
        "vectorizer = CountVectorizer()\n",
        "vectorizer.fit(sent1)\n",
        "print(vectorizer.vocabulary_)\n",
        "vector = vectorizer.transform(sent1)\n",
        "#print(vector)\n",
        "print(vector.shape)\n",
        "print(type(vector))\n",
        "print(vector.toarray())\n"
      ],
      "execution_count": 0,
      "outputs": []
    },
    {
      "cell_type": "markdown",
      "metadata": {
        "id": "_kf-H2O7Nx3c",
        "colab_type": "text"
      },
      "source": [
        "# TF-IDF"
      ]
    },
    {
      "cell_type": "code",
      "metadata": {
        "id": "IjojzzLnW_v7",
        "colab_type": "code",
        "colab": {
          "base_uri": "https://localhost:8080/",
          "height": 870
        },
        "outputId": "486a3993-5814-4b2e-fb19-2d8b8f4de042"
      },
      "source": [
        "from sklearn.feature_extraction.text import TfidfVectorizer\n",
        "tfidf = TfidfVectorizer()\n",
        "tfidf.fit(sent1)\n",
        "print(tfidf.vocabulary_)\n",
        "print(tfidf.idf_)\n",
        "vector = tfidf.transform([sent1[0]])\n",
        "print(vector.shape)\n",
        "print(vector.toarray())\n"
      ],
      "execution_count": 107,
      "outputs": [
        {
          "output_type": "stream",
          "text": [
            "{'bloody': 25, 'gun': 96, 'violence': 210, 'come': 39, 'close': 36, 'start': 188, 'early': 62, 'jan': 111, 'man': 123, 'shoot': 179, 'oakwood': 138, 'avenue': 21, 'vaughan': 208, 'road': 167, 'rush': 169, 'trauma': 204, 'centre': 31, 'survive': 194, 'continue': 45, 'last': 115, 'day': 50, 'double': 58, 'shooting': 180, 'jane': 112, 'street': 191, 'finch': 80, 'west': 214, 'hour': 102, 'new': 134, 'eve': 69, 'another': 14, 'shot': 181, 'kill': 114, 'evening': 71, 'two': 205, 'victim': 209, 'first': 82, 'men': 127, 'hospital': 101, 'serious': 176, 'condition': 43, 'second': 173, 'die': 54, 'scarborough': 172, 'neilson': 133, 'crow': 48, 'trail': 203, 'east': 63, 'people': 148, 'injure': 107, 'city': 35, 'previous': 153, 'set': 177, 'record': 160, 'data': 49, 'go': 90, 'back': 22, 'despite': 53, 'per': 149, 'cent': 30, 'increase': 105, 'number': 137, 'compare': 41, 'saw': 171, 'seven': 178, 'expert': 73, 'combined': 38, 'total': 200, 'injury': 108, 'death': 51, 'good': 91, 'measure': 126, 'overall': 142, 'fatal': 76, 'alone': 11, 'part': 143, 'whether': 215, 'live': 121, 'dy': 61, 'decide': 52, 'factor': 74, 'like': 119, 'health': 98, 'care': 29, 'time': 196, 'random': 158, 'chance': 32, 'emailed': 65, 'statement': 189, 'courtney': 46, 'glen': 89, 'spokesperson': 185, 'mayor': 125, 'john': 113, 'tory': 199, 'work': 217, 'closely': 37, 'address': 8, 'gang': 87, 'include': 104, 'funding': 85, 'front': 84, 'line': 120, 'neighbourhood': 132, 'well': 212, 'investment': 110, 'community': 40, 'root': 168, 'advocate': 10, 'province': 156, 'federal': 77, 'government': 92, 'call': 28, 'much': 129, 'tough': 201, 'bail': 23, 'sentence': 175, 'law': 117, 'crime': 47, 'add': 6, 'plan': 150, 'bring': 26, 'together': 197, 'gta': 95, 'municipality': 130, 'chief': 34, 'representative': 164, 'provincial': 157, 'discuss': 55, 'else': 64, 'across': 5, 'region': 162, 'year': 220, 'end': 67, 'news': 135, 'conference': 44, 'dominate': 57, 'topic': 198, 'mark': 124, 'saunders': 170, 'emphasize': 66, 'need': 131, 'grow': 93, 'increasingly': 106, 'complex': 42, 'approach': 16, 'adopt': 9, 'project': 155, 'space': 183, 'million': 128, 'anti': 15, 'wrap': 219, 'week': 211, 'late': 116, 'november': 136, 'presence': 152, 'strategic': 190, 'area': 17, 'lead': 118, 'hundred': 103, 'arrest': 19, 'ultimately': 206, 'result': 166, 'reduction': 161, 'particular': 145, 'enforcement': 68, 'significant': 182, 'seizure': 174, 'past': 147, 'would': 218, 'blanket': 24, 'acknowledge': 4, 'divisive': 56, 'among': 13, 'resident': 165, 'rely': 163, 'intelligence': 109, 'unit': 207, 'lot': 122, 'surgical': 192, 'spike': 184, 'partially': 144, 'attribute': 20, 'drug': 59, 'trade': 202, 'particularly': 146, 'around': 18, 'highly': 99, 'addictive': 7, 'opioid': 141, 'fentanyl': 78, 'game': 86, 'changer': 33, 'buyback': 27, 'program': 154, 'surrender': 193, '100': 0, 'firearm': 81, '300': 1, 'handgun': 97, 'accord': 2, 'office': 139, 'accounting': 3, 'population': 151, 'growth': 94, 'rate': 159, 'far': 75, 'exceed': 72, 'even': 70, 'dub': 60, 'amid': 12, 'homicide': 100, 'forty': 83, 'three': 195, 'one': 140, 'woman': 216, 'file': 79, 'wendy': 213, 'gillis': 88, 'star': 187, 'staff': 186}\n",
            "[6.04985601 6.04985601 6.04985601 6.04985601 6.04985601 6.04985601\n",
            " 6.04985601 6.04985601 5.35670883 6.04985601 6.04985601 6.04985601\n",
            " 6.04985601 6.04985601 6.04985601 6.04985601 6.04985601 6.04985601\n",
            " 6.04985601 6.04985601 6.04985601 5.35670883 6.04985601 6.04985601\n",
            " 6.04985601 6.04985601 6.04985601 6.04985601 6.04985601 6.04985601\n",
            " 6.04985601 6.04985601 6.04985601 6.04985601 5.6443909  4.95124372\n",
            " 6.04985601 6.04985601 6.04985601 5.6443909  5.35670883 6.04985601\n",
            " 6.04985601 6.04985601 6.04985601 5.13356528 6.04985601 6.04985601\n",
            " 6.04985601 6.04985601 5.6443909  6.04985601 6.04985601 6.04985601\n",
            " 6.04985601 6.04985601 6.04985601 6.04985601 6.04985601 6.04985601\n",
            " 6.04985601 6.04985601 5.6443909  6.04985601 6.04985601 6.04985601\n",
            " 5.6443909  6.04985601 6.04985601 5.6443909  6.04985601 6.04985601\n",
            " 6.04985601 6.04985601 6.04985601 6.04985601 6.04985601 5.6443909\n",
            " 6.04985601 6.04985601 5.6443909  6.04985601 6.04985601 6.04985601\n",
            " 6.04985601 6.04985601 6.04985601 5.6443909  6.04985601 5.6443909\n",
            " 6.04985601 6.04985601 5.6443909  6.04985601 6.04985601 6.04985601\n",
            " 3.97041447 6.04985601 6.04985601 6.04985601 5.6443909  5.6443909\n",
            " 6.04985601 6.04985601 5.6443909  5.6443909  6.04985601 6.04985601\n",
            " 6.04985601 6.04985601 5.6443909  6.04985601 6.04985601 6.04985601\n",
            " 5.13356528 6.04985601 6.04985601 6.04985601 5.35670883 6.04985601\n",
            " 6.04985601 6.04985601 6.04985601 5.6443909  6.04985601 4.95124372\n",
            " 6.04985601 5.6443909  6.04985601 6.04985601 6.04985601 6.04985601\n",
            " 6.04985601 6.04985601 5.6443909  6.04985601 6.04985601 6.04985601\n",
            " 6.04985601 6.04985601 6.04985601 6.04985601 5.6443909  6.04985601\n",
            " 6.04985601 6.04985601 6.04985601 6.04985601 5.35670883 6.04985601\n",
            " 6.04985601 6.04985601 6.04985601 6.04985601 6.04985601 5.13356528\n",
            " 6.04985601 6.04985601 6.04985601 6.04985601 5.35670883 6.04985601\n",
            " 6.04985601 6.04985601 6.04985601 6.04985601 5.6443909  5.6443909\n",
            " 6.04985601 5.6443909  5.35670883 5.6443909  6.04985601 6.04985601\n",
            " 6.04985601 6.04985601 6.04985601 5.6443909  6.04985601 5.35670883\n",
            " 4.66356165 6.04985601 6.04985601 6.04985601 6.04985601 6.04985601\n",
            " 6.04985601 6.04985601 6.04985601 6.04985601 5.6443909  6.04985601\n",
            " 6.04985601 6.04985601 6.04985601 6.04985601 5.6443909  6.04985601\n",
            " 6.04985601 5.6443909  5.6443909  6.04985601 6.04985601 6.04985601\n",
            " 6.04985601 6.04985601 6.04985601 6.04985601 6.04985601 5.35670883\n",
            " 4.34510792 6.04985601 6.04985601 6.04985601 6.04985601 6.04985601\n",
            " 6.04985601 6.04985601 6.04985601 6.04985601 6.04985601]\n",
            "(1, 221)\n",
            "[[0. 0. 0. 0. 0. 0. 0. 0. 0. 0. 0. 0. 0. 0. 0. 0. 0. 0. 0. 0. 0. 0. 0. 0.\n",
            "  0. 1. 0. 0. 0. 0. 0. 0. 0. 0. 0. 0. 0. 0. 0. 0. 0. 0. 0. 0. 0. 0. 0. 0.\n",
            "  0. 0. 0. 0. 0. 0. 0. 0. 0. 0. 0. 0. 0. 0. 0. 0. 0. 0. 0. 0. 0. 0. 0. 0.\n",
            "  0. 0. 0. 0. 0. 0. 0. 0. 0. 0. 0. 0. 0. 0. 0. 0. 0. 0. 0. 0. 0. 0. 0. 0.\n",
            "  0. 0. 0. 0. 0. 0. 0. 0. 0. 0. 0. 0. 0. 0. 0. 0. 0. 0. 0. 0. 0. 0. 0. 0.\n",
            "  0. 0. 0. 0. 0. 0. 0. 0. 0. 0. 0. 0. 0. 0. 0. 0. 0. 0. 0. 0. 0. 0. 0. 0.\n",
            "  0. 0. 0. 0. 0. 0. 0. 0. 0. 0. 0. 0. 0. 0. 0. 0. 0. 0. 0. 0. 0. 0. 0. 0.\n",
            "  0. 0. 0. 0. 0. 0. 0. 0. 0. 0. 0. 0. 0. 0. 0. 0. 0. 0. 0. 0. 0. 0. 0. 0.\n",
            "  0. 0. 0. 0. 0. 0. 0. 0. 0. 0. 0. 0. 0. 0. 0. 0. 0. 0. 0. 0. 0. 0. 0. 0.\n",
            "  0. 0. 0. 0. 0.]]\n"
          ],
          "name": "stdout"
        }
      ]
    },
    {
      "cell_type": "markdown",
      "metadata": {
        "id": "QUmM5ds-YOsP",
        "colab_type": "text"
      },
      "source": [
        "# Word2Vec"
      ]
    },
    {
      "cell_type": "markdown",
      "metadata": {
        "id": "I1PveXBNTz5v",
        "colab_type": "text"
      },
      "source": [
        "# Trying Naive Bayes Classifier"
      ]
    },
    {
      "cell_type": "code",
      "metadata": {
        "id": "I4UHmX5BdFVs",
        "colab_type": "code",
        "colab": {}
      },
      "source": [
        "mf_categories = ['Violent Crime','Community Policing & Demographics','Traffic','Other']"
      ],
      "execution_count": 0,
      "outputs": []
    },
    {
      "cell_type": "code",
      "metadata": {
        "id": "juE07s_KfQvz",
        "colab_type": "code",
        "colab": {}
      },
      "source": [
        "x = tstar_articles.Cleaned_Tokens\n",
        "y = tstar_articles.Category\n",
        "\n",
        "x_train, x_test, y_train, y_test = train_test_split(x, y, testsize=0.2)"
      ],
      "execution_count": 0,
      "outputs": []
    },
    {
      "cell_type": "code",
      "metadata": {
        "id": "iWkzDIOrcUrJ",
        "colab_type": "code",
        "colab": {
          "base_uri": "https://localhost:8080/",
          "height": 340
        },
        "outputId": "bbd87948-525f-40ac-a010-0c1dfc0705ed"
      },
      "source": [
        "from sklearn.naive_bayes import MultinomialNB\n",
        "from sklearn.pipeline import Pipeline\n",
        "from sklearn.feature_extraction.text import TfidfTransformer\n",
        "\n",
        "nb = Pipeline(['vect', CountVectorizer(),\n",
        "               'tfidf', TfidfTransformer(),\n",
        "               'clf', MultinomialNB()])\n",
        "nb.fit(x_train, y_train)\n",
        "\n",
        "%%time\n",
        "\n",
        "from sklearn.metrics import classification_report\n",
        "\n",
        "y_pred = nb.predict(x_text)\n",
        "\n",
        "print('accuracy %s' % accuracy_score(y_pred, y_test))\n",
        "print(classification_report(y_test, y_pred, target_names=mf_categories))\n"
      ],
      "execution_count": 111,
      "outputs": [
        {
          "output_type": "error",
          "ename": "TypeError",
          "evalue": "ignored",
          "traceback": [
            "\u001b[0;31m---------------------------------------------------------------------------\u001b[0m",
            "\u001b[0;31mTypeError\u001b[0m                                 Traceback (most recent call last)",
            "\u001b[0;32m<ipython-input-111-2fcbeac8e298>\u001b[0m in \u001b[0;36m<module>\u001b[0;34m()\u001b[0m\n\u001b[1;32m      3\u001b[0m \u001b[0;32mfrom\u001b[0m \u001b[0msklearn\u001b[0m\u001b[0;34m.\u001b[0m\u001b[0mfeature_extraction\u001b[0m\u001b[0;34m.\u001b[0m\u001b[0mtext\u001b[0m \u001b[0;32mimport\u001b[0m \u001b[0mTfidfTransformer\u001b[0m\u001b[0;34m\u001b[0m\u001b[0;34m\u001b[0m\u001b[0m\n\u001b[1;32m      4\u001b[0m \u001b[0;34m\u001b[0m\u001b[0m\n\u001b[0;32m----> 5\u001b[0;31m \u001b[0mnb\u001b[0m \u001b[0;34m=\u001b[0m \u001b[0mPipeline\u001b[0m\u001b[0;34m(\u001b[0m\u001b[0;34m[\u001b[0m\u001b[0;34m'vect'\u001b[0m\u001b[0;34m,\u001b[0m \u001b[0mCountVectorizer\u001b[0m\u001b[0;34m(\u001b[0m\u001b[0;34m)\u001b[0m\u001b[0;34m,\u001b[0m\u001b[0;34m]\u001b[0m\u001b[0;34m)\u001b[0m\u001b[0;34m\u001b[0m\u001b[0;34m\u001b[0m\u001b[0m\n\u001b[0m",
            "\u001b[0;32m/usr/local/lib/python3.6/dist-packages/sklearn/pipeline.py\u001b[0m in \u001b[0;36m__init__\u001b[0;34m(self, steps, memory, verbose)\u001b[0m\n\u001b[1;32m    134\u001b[0m         \u001b[0mself\u001b[0m\u001b[0;34m.\u001b[0m\u001b[0mmemory\u001b[0m \u001b[0;34m=\u001b[0m \u001b[0mmemory\u001b[0m\u001b[0;34m\u001b[0m\u001b[0;34m\u001b[0m\u001b[0m\n\u001b[1;32m    135\u001b[0m         \u001b[0mself\u001b[0m\u001b[0;34m.\u001b[0m\u001b[0mverbose\u001b[0m \u001b[0;34m=\u001b[0m \u001b[0mverbose\u001b[0m\u001b[0;34m\u001b[0m\u001b[0;34m\u001b[0m\u001b[0m\n\u001b[0;32m--> 136\u001b[0;31m         \u001b[0mself\u001b[0m\u001b[0;34m.\u001b[0m\u001b[0m_validate_steps\u001b[0m\u001b[0;34m(\u001b[0m\u001b[0;34m)\u001b[0m\u001b[0;34m\u001b[0m\u001b[0;34m\u001b[0m\u001b[0m\n\u001b[0m\u001b[1;32m    137\u001b[0m \u001b[0;34m\u001b[0m\u001b[0m\n\u001b[1;32m    138\u001b[0m     \u001b[0;32mdef\u001b[0m \u001b[0mget_params\u001b[0m\u001b[0;34m(\u001b[0m\u001b[0mself\u001b[0m\u001b[0;34m,\u001b[0m \u001b[0mdeep\u001b[0m\u001b[0;34m=\u001b[0m\u001b[0;32mTrue\u001b[0m\u001b[0;34m)\u001b[0m\u001b[0;34m:\u001b[0m\u001b[0;34m\u001b[0m\u001b[0;34m\u001b[0m\u001b[0m\n",
            "\u001b[0;32m/usr/local/lib/python3.6/dist-packages/sklearn/pipeline.py\u001b[0m in \u001b[0;36m_validate_steps\u001b[0;34m(self)\u001b[0m\n\u001b[1;32m    165\u001b[0m \u001b[0;34m\u001b[0m\u001b[0m\n\u001b[1;32m    166\u001b[0m     \u001b[0;32mdef\u001b[0m \u001b[0m_validate_steps\u001b[0m\u001b[0;34m(\u001b[0m\u001b[0mself\u001b[0m\u001b[0;34m)\u001b[0m\u001b[0;34m:\u001b[0m\u001b[0;34m\u001b[0m\u001b[0;34m\u001b[0m\u001b[0m\n\u001b[0;32m--> 167\u001b[0;31m         \u001b[0mnames\u001b[0m\u001b[0;34m,\u001b[0m \u001b[0mestimators\u001b[0m \u001b[0;34m=\u001b[0m \u001b[0mzip\u001b[0m\u001b[0;34m(\u001b[0m\u001b[0;34m*\u001b[0m\u001b[0mself\u001b[0m\u001b[0;34m.\u001b[0m\u001b[0msteps\u001b[0m\u001b[0;34m)\u001b[0m\u001b[0;34m\u001b[0m\u001b[0;34m\u001b[0m\u001b[0m\n\u001b[0m\u001b[1;32m    168\u001b[0m \u001b[0;34m\u001b[0m\u001b[0m\n\u001b[1;32m    169\u001b[0m         \u001b[0;31m# validate names\u001b[0m\u001b[0;34m\u001b[0m\u001b[0;34m\u001b[0m\u001b[0;34m\u001b[0m\u001b[0m\n",
            "\u001b[0;31mTypeError\u001b[0m: zip argument #2 must support iteration"
          ]
        }
      ]
    },
    {
      "cell_type": "code",
      "metadata": {
        "id": "ILES8XfwIXZC",
        "colab_type": "code",
        "colab": {}
      },
      "source": [
        "train, valid = train_test_split(tstar_articles, test_size=0.2)\n",
        "\n",
        "count_vect = CountVectorizer(analyzer=preprocess_text)\n",
        "\n",
        "train_set = count_vect.fit_transform(train['raw text'])\n",
        "train_tags = train['Category']\n",
        "\n",
        "valid_set = count_vect.transform(valid['raw text'])\n",
        "valid_tags = valid['Category']\n",
        "\n",
        "#test_set = count_vect.transform(df_test['request_text_edit_aware'])"
      ],
      "execution_count": 0,
      "outputs": []
    },
    {
      "cell_type": "code",
      "metadata": {
        "id": "0i0e6YUTkT7D",
        "colab_type": "code",
        "colab": {}
      },
      "source": [
        "training_set = featuresets[:1900] #up to but not including 1900'th review\n",
        "testing_set = featuresets[1900:]\n",
        "\n",
        "classifier = nltk.NaiveBayesClassifier.train(training_set)\n",
        "print(\"Classifier accuracy percent:\",(nltk.classify.accuracy(classifier, testing_set))*100)"
      ],
      "execution_count": 0,
      "outputs": []
    }
  ]
}